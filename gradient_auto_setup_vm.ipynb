{
  "nbformat": 4,
  "nbformat_minor": 0,
  "metadata": {
    "colab": {
      "provenance": [],
      "authorship_tag": "ABX9TyMgzTwuXmBiX0y7d1sB8ku7",
      "include_colab_link": true
    },
    "kernelspec": {
      "name": "python3",
      "display_name": "Python 3"
    },
    "language_info": {
      "name": "python"
    }
  },
  "cells": [
    {
      "cell_type": "markdown",
      "metadata": {
        "id": "view-in-github",
        "colab_type": "text"
      },
      "source": [
        "<a href=\"https://colab.research.google.com/github/kabanoki/gradient_auto_setup_vm/blob/main/gradient_auto_setup_vm.ipynb\" target=\"_parent\"><img src=\"https://colab.research.google.com/assets/colab-badge.svg\" alt=\"Open In Colab\"/></a>"
      ]
    },
    {
      "cell_type": "code",
      "execution_count": null,
      "metadata": {
        "id": "UzLsdF_S7aDz",
        "cellView": "form"
      },
      "outputs": [],
      "source": [
        "#@title VMの起動\n",
        "! nvidia-smi\n",
        "! nvcc -V\n",
        "! free -h"
      ]
    },
    {
      "cell_type": "code",
      "source": [
        "#@title Gradientライブラリのインストール\n",
        "! pip install gradient\n",
        "! gradient version"
      ],
      "metadata": {
        "colab": {
          "base_uri": "https://localhost:8080/"
        },
        "id": "ExycX-p_7kbN",
        "outputId": "2f3dc299-bc62-43ba-917c-61a065c3b2be",
        "cellView": "form"
      },
      "execution_count": null,
      "outputs": [
        {
          "output_type": "stream",
          "name": "stdout",
          "text": [
            "Looking in indexes: https://pypi.org/simple, https://us-python.pkg.dev/colab-wheels/public/simple/\n",
            "Collecting gradient\n",
            "  Downloading gradient-2.0.6-py2.py3-none-any.whl (147 kB)\n",
            "\u001b[2K     \u001b[90m━━━━━━━━━━━━━━━━━━━━━━━━━━━━━━━━━━━━━━━\u001b[0m \u001b[32m147.6/147.6 kB\u001b[0m \u001b[31m4.8 MB/s\u001b[0m eta \u001b[36m0:00:00\u001b[0m\n",
            "\u001b[?25hCollecting click-help-colors\n",
            "  Downloading click_help_colors-0.9.1-py3-none-any.whl (5.5 kB)\n",
            "Requirement already satisfied: click<9.0,>=8.0.1 in /usr/local/lib/python3.9/dist-packages (from gradient) (8.1.3)\n",
            "Requirement already satisfied: six in /usr/local/lib/python3.9/dist-packages (from gradient) (1.16.0)\n",
            "Collecting requests-toolbelt\n",
            "  Downloading requests_toolbelt-0.10.1-py2.py3-none-any.whl (54 kB)\n",
            "\u001b[2K     \u001b[90m━━━━━━━━━━━━━━━━━━━━━━━━━━━━━━━━━━━━━━━━\u001b[0m \u001b[32m54.5/54.5 kB\u001b[0m \u001b[31m7.8 MB/s\u001b[0m eta \u001b[36m0:00:00\u001b[0m\n",
            "\u001b[?25hCollecting PyYAML==5.*\n",
            "  Downloading PyYAML-5.4.1-cp39-cp39-manylinux1_x86_64.whl (630 kB)\n",
            "\u001b[2K     \u001b[90m━━━━━━━━━━━━━━━━━━━━━━━━━━━━━━━━━━━━━━\u001b[0m \u001b[32m630.1/630.1 kB\u001b[0m \u001b[31m22.6 MB/s\u001b[0m eta \u001b[36m0:00:00\u001b[0m\n",
            "\u001b[?25hRequirement already satisfied: requests[security] in /usr/local/lib/python3.9/dist-packages (from gradient) (2.27.1)\n",
            "Requirement already satisfied: python-dateutil==2.* in /usr/local/lib/python3.9/dist-packages (from gradient) (2.8.2)\n",
            "Collecting gradient-utils>=0.1.2\n",
            "  Downloading gradient_utils-0.5.0-py3-none-any.whl (8.6 kB)\n",
            "Collecting websocket-client==0.57.*\n",
            "  Downloading websocket_client-0.57.0-py2.py3-none-any.whl (200 kB)\n",
            "\u001b[2K     \u001b[90m━━━━━━━━━━━━━━━━━━━━━━━━━━━━━━━━━━━━━━\u001b[0m \u001b[32m200.9/200.9 kB\u001b[0m \u001b[31m25.8 MB/s\u001b[0m eta \u001b[36m0:00:00\u001b[0m\n",
            "\u001b[?25hCollecting terminaltables\n",
            "  Downloading terminaltables-3.1.10-py2.py3-none-any.whl (15 kB)\n",
            "Collecting click-didyoumean\n",
            "  Downloading click_didyoumean-0.3.0-py3-none-any.whl (2.7 kB)\n",
            "Collecting gql[requests]==3.0.0a6\n",
            "  Downloading gql-3.0.0a6.tar.gz (86 kB)\n",
            "\u001b[2K     \u001b[90m━━━━━━━━━━━━━━━━━━━━━━━━━━━━━━━━━━━━━━━━\u001b[0m \u001b[32m86.6/86.6 kB\u001b[0m \u001b[31m11.1 MB/s\u001b[0m eta \u001b[36m0:00:00\u001b[0m\n",
            "\u001b[?25h  Preparing metadata (setup.py) ... \u001b[?25l\u001b[?25hdone\n",
            "Collecting click-completion\n",
            "  Downloading click-completion-0.5.2.tar.gz (10 kB)\n",
            "  Preparing metadata (setup.py) ... \u001b[?25l\u001b[?25hdone\n",
            "Collecting colorama==0.4.3\n",
            "  Downloading colorama-0.4.3-py2.py3-none-any.whl (15 kB)\n",
            "Collecting attrs<=19\n",
            "  Downloading attrs-18.2.0-py2.py3-none-any.whl (34 kB)\n",
            "Collecting halo\n",
            "  Downloading halo-0.0.31.tar.gz (11 kB)\n",
            "  Preparing metadata (setup.py) ... \u001b[?25l\u001b[?25hdone\n",
            "Requirement already satisfied: progressbar2 in /usr/local/lib/python3.9/dist-packages (from gradient) (4.2.0)\n",
            "Collecting marshmallow<3.0\n",
            "  Downloading marshmallow-2.21.0-py2.py3-none-any.whl (50 kB)\n",
            "\u001b[2K     \u001b[90m━━━━━━━━━━━━━━━━━━━━━━━━━━━━━━━━━━━━━━━━\u001b[0m \u001b[32m50.2/50.2 kB\u001b[0m \u001b[31m7.7 MB/s\u001b[0m eta \u001b[36m0:00:00\u001b[0m\n",
            "\u001b[?25hCollecting graphql-core<3.2,>=3.1.5\n",
            "  Downloading graphql_core-3.1.7-py3-none-any.whl (189 kB)\n",
            "\u001b[2K     \u001b[90m━━━━━━━━━━━━━━━━━━━━━━━━━━━━━━━━━━━━━━\u001b[0m \u001b[32m189.5/189.5 kB\u001b[0m \u001b[31m26.3 MB/s\u001b[0m eta \u001b[36m0:00:00\u001b[0m\n",
            "\u001b[?25hCollecting yarl<2.0,>=1.6\n",
            "  Downloading yarl-1.8.2-cp39-cp39-manylinux_2_17_x86_64.manylinux2014_x86_64.whl (264 kB)\n",
            "\u001b[2K     \u001b[90m━━━━━━━━━━━━━━━━━━━━━━━━━━━━━━━━━━━━━━\u001b[0m \u001b[32m264.6/264.6 kB\u001b[0m \u001b[31m29.9 MB/s\u001b[0m eta \u001b[36m0:00:00\u001b[0m\n",
            "\u001b[?25h\u001b[33mWARNING: Retrying (Retry(total=4, connect=None, read=None, redirect=None, status=None)) after connection broken by 'ProtocolError('Connection aborted.', ConnectionResetError(104, 'Connection reset by peer'))': /simple/pymongo/\u001b[0m\u001b[33m\n",
            "\u001b[0mCollecting pymongo<4.0.0,>=3.11.0\n",
            "  Downloading pymongo-3.13.0-cp39-cp39-manylinux_2_17_x86_64.manylinux2014_x86_64.whl (515 kB)\n",
            "\u001b[2K     \u001b[90m━━━━━━━━━━━━━━━━━━━━━━━━━━━━━━━━━━━━━━\u001b[0m \u001b[32m515.5/515.5 kB\u001b[0m \u001b[31m48.6 MB/s\u001b[0m eta \u001b[36m0:00:00\u001b[0m\n",
            "\u001b[?25hCollecting prometheus-client<0.10,>=0.8\n",
            "  Downloading prometheus_client-0.9.0-py2.py3-none-any.whl (53 kB)\n",
            "\u001b[2K     \u001b[90m━━━━━━━━━━━━━━━━━━━━━━━━━━━━━━━━━━━━━━━━\u001b[0m \u001b[32m53.8/53.8 kB\u001b[0m \u001b[31m8.2 MB/s\u001b[0m eta \u001b[36m0:00:00\u001b[0m\n",
            "\u001b[?25hCollecting wheel<0.36.0,>=0.35.1\n",
            "  Downloading wheel-0.35.1-py2.py3-none-any.whl (33 kB)\n",
            "Requirement already satisfied: jinja2 in /usr/local/lib/python3.9/dist-packages (from click-completion->gradient) (3.1.2)\n",
            "Collecting shellingham\n",
            "  Downloading shellingham-1.5.0.post1-py2.py3-none-any.whl (9.4 kB)\n",
            "Collecting log_symbols>=0.0.14\n",
            "  Downloading log_symbols-0.0.14-py3-none-any.whl (3.1 kB)\n",
            "Collecting spinners>=0.0.24\n",
            "  Downloading spinners-0.0.24-py3-none-any.whl (5.5 kB)\n",
            "Requirement already satisfied: termcolor>=1.1.0 in /usr/local/lib/python3.9/dist-packages (from halo->gradient) (2.2.0)\n",
            "Requirement already satisfied: python-utils>=3.0.0 in /usr/local/lib/python3.9/dist-packages (from progressbar2->gradient) (3.5.2)\n",
            "Requirement already satisfied: certifi>=2017.4.17 in /usr/local/lib/python3.9/dist-packages (from requests[security]->gradient) (2022.12.7)\n",
            "Requirement already satisfied: urllib3<1.27,>=1.21.1 in /usr/local/lib/python3.9/dist-packages (from requests[security]->gradient) (1.26.15)\n",
            "Requirement already satisfied: charset-normalizer~=2.0.0 in /usr/local/lib/python3.9/dist-packages (from requests[security]->gradient) (2.0.12)\n",
            "Requirement already satisfied: idna<4,>=2.5 in /usr/local/lib/python3.9/dist-packages (from requests[security]->gradient) (3.4)\n",
            "Collecting multidict>=4.0\n",
            "  Downloading multidict-6.0.4-cp39-cp39-manylinux_2_17_x86_64.manylinux2014_x86_64.whl (114 kB)\n",
            "\u001b[2K     \u001b[90m━━━━━━━━━━━━━━━━━━━━━━━━━━━━━━━━━━━━━━\u001b[0m \u001b[32m114.2/114.2 kB\u001b[0m \u001b[31m14.5 MB/s\u001b[0m eta \u001b[36m0:00:00\u001b[0m\n",
            "\u001b[?25hRequirement already satisfied: MarkupSafe>=2.0 in /usr/local/lib/python3.9/dist-packages (from jinja2->click-completion->gradient) (2.1.2)\n",
            "Building wheels for collected packages: click-completion, halo, gql\n",
            "  Building wheel for click-completion (setup.py) ... \u001b[?25l\u001b[?25hdone\n",
            "  Created wheel for click-completion: filename=click_completion-0.5.2-py3-none-any.whl size=11204 sha256=dfaf9bc03f890f226d35f97520abea9a625702c75c7028c1ddc5b379cd1b9013\n",
            "  Stored in directory: /root/.cache/pip/wheels/f1/23/55/8287077a0e274c8d7ddf94fb623cb481cd0f4512d1a5062603\n",
            "  Building wheel for halo (setup.py) ... \u001b[?25l\u001b[?25hdone\n",
            "  Created wheel for halo: filename=halo-0.0.31-py3-none-any.whl size=11259 sha256=435f49e785009b86b2dd4930b080411d3388b7532635c0bc9b7bce0a452fb9ee\n",
            "  Stored in directory: /root/.cache/pip/wheels/bb/85/47/b7c7338ab52808105f937bd8c04aec5d98a543311ac2c8bed2\n",
            "  Building wheel for gql (setup.py) ... \u001b[?25l\u001b[?25hdone\n",
            "  Created wheel for gql: filename=gql-3.0.0a6-py2.py3-none-any.whl size=34863 sha256=161c77e698ad6c844caf725a4d2472aa159f3275d966d0aed4174fa93e0f7009\n",
            "  Stored in directory: /root/.cache/pip/wheels/a7/29/1a/9709f3b2c98a2d811d8be839cba15af7e578815f0e8f87d96e\n",
            "Successfully built click-completion halo gql\n",
            "Installing collected packages: spinners, prometheus-client, marshmallow, attrs, wheel, websocket-client, terminaltables, shellingham, PyYAML, pymongo, multidict, graphql-core, colorama, click-help-colors, click-didyoumean, yarl, requests-toolbelt, log_symbols, gradient-utils, click-completion, halo, gql, gradient\n",
            "  Attempting uninstall: prometheus-client\n",
            "    Found existing installation: prometheus-client 0.16.0\n",
            "    Uninstalling prometheus-client-0.16.0:\n",
            "      Successfully uninstalled prometheus-client-0.16.0\n",
            "  Attempting uninstall: attrs\n",
            "    Found existing installation: attrs 22.2.0\n",
            "    Uninstalling attrs-22.2.0:\n",
            "      Successfully uninstalled attrs-22.2.0\n",
            "  Attempting uninstall: wheel\n",
            "    Found existing installation: wheel 0.40.0\n",
            "    Uninstalling wheel-0.40.0:\n",
            "      Successfully uninstalled wheel-0.40.0\n",
            "  Attempting uninstall: websocket-client\n",
            "    Found existing installation: websocket-client 1.5.1\n",
            "    Uninstalling websocket-client-1.5.1:\n",
            "      Successfully uninstalled websocket-client-1.5.1\n",
            "  Attempting uninstall: PyYAML\n",
            "    Found existing installation: PyYAML 6.0\n",
            "    Uninstalling PyYAML-6.0:\n",
            "      Successfully uninstalled PyYAML-6.0\n",
            "\u001b[31mERROR: pip's dependency resolver does not currently take into account all the packages that are installed. This behaviour is the source of the following dependency conflicts.\n",
            "pytest 7.2.2 requires attrs>=19.2.0, but you have attrs 18.2.0 which is incompatible.\u001b[0m\u001b[31m\n",
            "\u001b[0mSuccessfully installed PyYAML-5.4.1 attrs-18.2.0 click-completion-0.5.2 click-didyoumean-0.3.0 click-help-colors-0.9.1 colorama-0.4.3 gql-3.0.0a6 gradient-2.0.6 gradient-utils-0.5.0 graphql-core-3.1.7 halo-0.0.31 log_symbols-0.0.14 marshmallow-2.21.0 multidict-6.0.4 prometheus-client-0.9.0 pymongo-3.13.0 requests-toolbelt-0.10.1 shellingham-1.5.0.post1 spinners-0.0.24 terminaltables-3.1.10 websocket-client-0.57.0 wheel-0.35.1 yarl-1.8.2\n",
            "\u001b[0mv2.0.6\u001b[0m\n",
            "\u001b[0m\u001b[0m"
          ]
        }
      ]
    },
    {
      "cell_type": "code",
      "source": [
        "#@title 各種認証キーの設定\n",
        "api_key = ''#@param {type:\"string\"}\n",
        "notebook_id = ''#@param {type:\"string\"}\n",
        "target_vm_type = 'Free-GPU' #@param [\"Free-A100-80G\", \"Free-A6000\", \"Free-A4000\", \"Free-GPU\"] {allow-input: true}"
      ],
      "metadata": {
        "cellView": "form",
        "id": "XakICJM09uoA"
      },
      "execution_count": null,
      "outputs": []
    },
    {
      "cell_type": "code",
      "source": [
        "#@title 起動\n",
        "import re\n",
        "import time\n",
        "from gradient import MachineTypesClient\n",
        "from gradient import NotebooksClient\n",
        "\n",
        "machineTypes_client = MachineTypesClient(api_key)\n",
        "notebooks_client = NotebooksClient(api_key)\n",
        "\n",
        "for i in range(0, 1080, 1):\n",
        "    print(i)\n",
        "    time.sleep(10)\n",
        "    for VmType in machineTypes_client.list():\n",
        "        if VmType.deployment_type == 'gpu' and re.search(target_vm_type, VmType.label):\n",
        "            print(VmType)\n",
        "            print(notebooks_client.start(\n",
        "                id=notebook_id,\n",
        "                machine_type=target_vm_type,\n",
        "                shutdown_timeout=6,\n",
        "            ))\n",
        "            print(start VM!)\n",
        "            break\n",
        "    else:\n",
        "        continue\n",
        "    break"
      ],
      "metadata": {
        "colab": {
          "base_uri": "https://localhost:8080/"
        },
        "id": "w5r01vc38u8C",
        "outputId": "ce707db7-d444-4d47-88f5-4b94771a7e83",
        "cellView": "form"
      },
      "execution_count": null,
      "outputs": [
        {
          "output_type": "stream",
          "name": "stdout",
          "text": [
            "0\n",
            "1\n",
            "2\n",
            "3\n",
            "4\n",
            "5\n",
            "6\n",
            "7\n",
            "8\n",
            "9\n",
            "10\n",
            "VmType(label='Free-A4000', kind='free-a4000', cpu_count=8, ram_in_bytes=48318382080, gpu_count=1, gpu_model=VmTypeGpuModel(label='Ampere A4000', model='passthrough', memory_in_bytes=17179869184), is_preemptible=False, deployment_type='gpu', deployment_size='freesmall5', clusters=['clg07azjl'])\n"
          ]
        }
      ]
    },
    {
      "cell_type": "code",
      "source": [],
      "metadata": {
        "id": "Uq8Mm6MXBhlr"
      },
      "execution_count": null,
      "outputs": []
    }
  ]
}