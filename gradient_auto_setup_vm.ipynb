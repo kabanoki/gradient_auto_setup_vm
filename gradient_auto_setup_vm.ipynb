{
  "nbformat": 4,
  "nbformat_minor": 0,
  "metadata": {
    "colab": {
      "provenance": [],
      "authorship_tag": "ABX9TyMNpLHiQ/xPqocisq3YuodS",
      "include_colab_link": true
    },
    "kernelspec": {
      "name": "python3",
      "display_name": "Python 3"
    },
    "language_info": {
      "name": "python"
    }
  },
  "cells": [
    {
      "cell_type": "markdown",
      "metadata": {
        "id": "view-in-github",
        "colab_type": "text"
      },
      "source": [
        "<a href=\"https://colab.research.google.com/github/kabanoki/gradient_auto_setup_vm/blob/main/gradient_auto_setup_vm.ipynb\" target=\"_parent\"><img src=\"https://colab.research.google.com/assets/colab-badge.svg\" alt=\"Open In Colab\"/></a>"
      ]
    },
    {
      "cell_type": "code",
      "execution_count": null,
      "metadata": {
        "id": "UzLsdF_S7aDz",
        "cellView": "form"
      },
      "outputs": [],
      "source": [
        "#@title VMの起動\n",
        "! nvidia-smi\n",
        "! nvcc -V\n",
        "! free -h"
      ]
    },
    {
      "cell_type": "code",
      "source": [
        "#@title Gradientライブラリのインストール\n",
        "! pip install gradient\n",
        "! gradient version"
      ],
      "metadata": {
        "id": "ExycX-p_7kbN",
        "cellView": "form"
      },
      "execution_count": null,
      "outputs": []
    },
    {
      "cell_type": "code",
      "source": [
        "#@title 各種認証キーの設定\n",
        "api_key = ''#@param {type:\"string\"}\n",
        "notebook_id = ''#@param {type:\"string\"}\n",
        "target_vm_type = 'Free-GPU' #@param [\"Free-A100-80G\", \"Free-A6000\", \"Free-A4000\", \"Free-GPU\"] {allow-input: true}"
      ],
      "metadata": {
        "cellView": "form",
        "id": "XakICJM09uoA"
      },
      "execution_count": null,
      "outputs": []
    },
    {
      "cell_type": "code",
      "source": [
        "#@title 起動\n",
        "import re\n",
        "import time\n",
        "from gradient import MachineTypesClient\n",
        "from gradient import NotebooksClient\n",
        "\n",
        "machineTypes_client = MachineTypesClient(api_key)\n",
        "notebooks_client = NotebooksClient(api_key)\n",
        "\n",
        "for i in range(0, 1080, 1):\n",
        "    print(i)\n",
        "    time.sleep(10)\n",
        "    for VmType in machineTypes_client.list():\n",
        "        if VmType.deployment_type == 'gpu' and re.search(target_vm_type, VmType.label):\n",
        "            print(VmType)\n",
        "            print(notebooks_client.start(\n",
        "                id=notebook_id,\n",
        "                machine_type=target_vm_type,\n",
        "                shutdown_timeout=6,\n",
        "            ))\n",
        "            print(start VM!)\n",
        "            break\n",
        "    else:\n",
        "        continue\n",
        "    break"
      ],
      "metadata": {
        "id": "w5r01vc38u8C",
        "cellView": "form"
      },
      "execution_count": null,
      "outputs": []
    }
  ]
}